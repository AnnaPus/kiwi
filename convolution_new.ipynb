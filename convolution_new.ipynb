{
 "cells": [
  {
   "cell_type": "code",
   "execution_count": 3,
   "metadata": {},
   "outputs": [],
   "source": [
    "import numpy as np\n",
    "import scipy.signal"
   ]
  },
  {
   "cell_type": "code",
   "execution_count": 2,
   "metadata": {},
   "outputs": [],
   "source": [
    "mas1 = np.array([[1, 1, 0, 1, 1],[1, 0, 1, 0, 1],[1, 0, 0, 0, 1],[1, 1, 1, 0, 1],[1, 1, 0, 1, 1]])\n",
    "core = np.array([[1, 0, 1],[1, 1, 0],[1, 0, 1]])"
   ]
  },
  {
   "cell_type": "code",
   "execution_count": 3,
   "metadata": {},
   "outputs": [],
   "source": [
    "h = core.shape[0]\n",
    "w = core.shape[1]\n",
    "H = mas1.shape[0]\n",
    "W = mas1.shape[1]"
   ]
  },
  {
   "cell_type": "code",
   "execution_count": 4,
   "metadata": {},
   "outputs": [],
   "source": [
    "def convolve(x, kernel, stride, padding): # 'valid', 'same'\n",
    "    h = kernel.shape[0]\n",
    "    w = kernel.shape[1]\n",
    "    H = x.shape[0]\n",
    "    W = x.shape[1]\n",
    "    \n",
    "    if padding == 'valid':\n",
    "        p_row = 0\n",
    "        p_col = 0\n",
    "    elif padding == 'same':\n",
    "        p_row = ((H - 1) * stride - H + h) // 2\n",
    "        p_col = ((W - 1) * stride - W + w) // 2\n",
    "    else:\n",
    "        raise Exceprion('Неверное значение аргумента padding')\n",
    "        \n",
    "    x = np.pad(x, ((p_row, p_row), (p_col, p_col)), mode='constant', constant_values=0)\n",
    "    n_rows_res = (H + 2 * p_row - h) // stride + 1\n",
    "    n_cols_res = (W + 2 * p_col - w) // stride + 1\n",
    "\n",
    "    result = np.zeros(shape=(n_rows_res, n_cols_res), dtype=np.float32)\n",
    "    i_res = 0\n",
    "    j_res = 0\n",
    "    for i in range(0, x.shape[0]-h + 1, stride):\n",
    "        j_res = 0\n",
    "        for j in range(0, x.shape[1] - w + 1, stride):\n",
    "            arr = x[i:i+h, j:j+w]\n",
    "            result[i_res, j_res] = np.sum(arr * kernel)\n",
    "            j_res +=1\n",
    "        i_res += 1 \n",
    "    return result"
   ]
  },
  {
   "cell_type": "code",
   "execution_count": 5,
   "metadata": {},
   "outputs": [
    {
     "data": {
      "text/plain": [
       "array([[1., 4., 1., 3., 2.],\n",
       "       [2., 3., 3., 3., 2.],\n",
       "       [2., 5., 1., 4., 1.],\n",
       "       [2., 4., 4., 3., 2.],\n",
       "       [2., 4., 2., 3., 2.]], dtype=float32)"
      ]
     },
     "execution_count": 5,
     "metadata": {},
     "output_type": "execute_result"
    }
   ],
   "source": [
    "convolve(mas1, core, 1, 'same')"
   ]
  },
  {
   "cell_type": "code",
   "execution_count": 6,
   "metadata": {},
   "outputs": [],
   "source": [
    "def conv(x, kernel, stride, padding):\n",
    "    h = kernel.shape[0]\n",
    "    w = kernel.shape[1]\n",
    "    H = x.shape[0]\n",
    "    W = x.shape[1]\n",
    "    \n",
    "    if padding == 'valid':\n",
    "        p_row = 0\n",
    "        p_col = 0\n",
    "    elif padding == 'same':\n",
    "        p_row = ((H - 1) * stride - H + h) // 2\n",
    "        p_col = ((W - 1) * stride - W + w) // 2\n",
    "    else:\n",
    "        raise Exceprion('Неверное значение аргумента padding')\n",
    "    x = np.pad(x, ((p_row, p_row), (p_col, p_col)), mode='constant', constant_values=0)    \n",
    "    n_rows_res = (H + 2 * p_row - h) // stride + 1\n",
    "    n_cols_res = (W + 2 * p_col - w) // stride + 1\n",
    "    mas = np.zeros(shape=(h * w, n_rows_res * n_cols_res), dtype=np.float32)\n",
    "    \n",
    "    i_res = 0\n",
    "    for i in range(0, x.shape[0]-h + 1, stride):\n",
    "        for j in range(0, x.shape[1] - w + 1, stride):\n",
    "            arr = x[i:i+h, j:j+w].flatten()\n",
    "            mas[:, i_res] = arr\n",
    "            i_res += 1\n",
    "            \n",
    "#     print(mas.astype(np.int32))\n",
    "    flatten_core = kernel.reshape(1, h * w)\n",
    "    result = (flatten_core @ mas).reshape(n_rows_res, n_cols_res)\n",
    "    return result\n"
   ]
  },
  {
   "cell_type": "code",
   "execution_count": 7,
   "metadata": {},
   "outputs": [
    {
     "data": {
      "text/plain": [
       "array([[3., 3., 3.],\n",
       "       [5., 1., 4.],\n",
       "       [4., 4., 3.]])"
      ]
     },
     "execution_count": 7,
     "metadata": {},
     "output_type": "execute_result"
    }
   ],
   "source": [
    "\n",
    "conv(mas1, core, 1, 'valid')\n"
   ]
  },
  {
   "cell_type": "markdown",
   "metadata": {},
   "source": [
    "## Задание\n",
    "\n",
    "1. Сравнить производительность 3-х методов свертки: convolve, conv, и стандартного метода из numpy\n",
    "2. Попытаться разобраться с градиентом свертки\n",
    "3. Пусть исходный тензор имеет размер (N, H, W, C), где N - количество изображений, H, W - размеры изображений, C - каналы. Необходимо реализовать операцию 2D свертки данного дензора с тензором (h, w, in_c, out_c), при этом in_c == C.\n",
    "4. Создать репозиторий на github"
   ]
  },
  {
   "cell_type": "code",
   "execution_count": 8,
   "metadata": {},
   "outputs": [
    {
     "ename": "NameError",
     "evalue": "name 'mas' is not defined",
     "output_type": "error",
     "traceback": [
      "\u001b[1;31m---------------------------------------------------------------------------\u001b[0m",
      "\u001b[1;31mNameError\u001b[0m                                 Traceback (most recent call last)",
      "\u001b[1;32m<ipython-input-8-0bc374517ca4>\u001b[0m in \u001b[0;36m<module>\u001b[1;34m()\u001b[0m\n\u001b[0;32m      2\u001b[0m \u001b[0mmas2\u001b[0m \u001b[1;33m=\u001b[0m \u001b[0mnp\u001b[0m\u001b[1;33m.\u001b[0m\u001b[0mrandom\u001b[0m\u001b[1;33m.\u001b[0m\u001b[0mrand\u001b[0m\u001b[1;33m(\u001b[0m\u001b[1;36m1000\u001b[0m\u001b[1;33m,\u001b[0m \u001b[1;36m1000\u001b[0m\u001b[1;33m)\u001b[0m\u001b[1;33m\u001b[0m\u001b[0m\n\u001b[0;32m      3\u001b[0m \u001b[0mcor\u001b[0m \u001b[1;33m=\u001b[0m \u001b[0mnp\u001b[0m\u001b[1;33m.\u001b[0m\u001b[0mrandom\u001b[0m\u001b[1;33m.\u001b[0m\u001b[0mrand\u001b[0m\u001b[1;33m(\u001b[0m\u001b[1;36m500\u001b[0m\u001b[1;33m,\u001b[0m \u001b[1;36m500\u001b[0m\u001b[1;33m)\u001b[0m\u001b[1;33m\u001b[0m\u001b[0m\n\u001b[1;32m----> 4\u001b[1;33m \u001b[0ma\u001b[0m \u001b[1;33m=\u001b[0m \u001b[0mscipy\u001b[0m\u001b[1;33m.\u001b[0m\u001b[0msignal\u001b[0m\u001b[1;33m.\u001b[0m\u001b[0mconvolve2d\u001b[0m\u001b[1;33m(\u001b[0m \u001b[0mmas\u001b[0m\u001b[1;33m,\u001b[0m \u001b[0mcor\u001b[0m\u001b[1;33m,\u001b[0m \u001b[1;34m'valid'\u001b[0m\u001b[1;33m)\u001b[0m\u001b[1;33m\u001b[0m\u001b[0m\n\u001b[0m\u001b[0;32m      5\u001b[0m \u001b[0ma\u001b[0m\u001b[1;33m\u001b[0m\u001b[0m\n",
      "\u001b[1;31mNameError\u001b[0m: name 'mas' is not defined"
     ]
    }
   ],
   "source": [
    "core1 = np.array([[1, 0, 1],[0, 1, 1],[1, 0, 1]])\n",
    "mas2 = np.random.rand(1000, 1000)\n",
    "cor = np.random.rand(500, 500)\n",
    "a = scipy.signal.convolve2d( mas, cor, 'valid') \n",
    "a"
   ]
  },
  {
   "cell_type": "code",
   "execution_count": 357,
   "metadata": {},
   "outputs": [],
   "source": [
    "def conv1(x, kernel, stride, padding):\n",
    "    h, w, c_in, c_out = kernel.shape\n",
    "    H, W, C, N = x.shape\n",
    "    \n",
    "    if padding == 'valid':\n",
    "        p_row = 0\n",
    "        p_col = 0\n",
    "    elif padding == 'same':\n",
    "        p_row = ((H - 1) * stride - H + h) // 2\n",
    "        p_col = ((W - 1) * stride - W + w) // 2\n",
    "    else:\n",
    "        raise Exceprion('Неверное значение аргумента padding')\n",
    "    x = np.pad(x, ((p_row, p_row), (p_col, p_col), (0, 0), (0, 0)), mode='constant', constant_values=0)    \n",
    "    n_rows_res = (H + 2 * p_row - h) // stride + 1\n",
    "    n_cols_res = (W + 2 * p_col - w) // stride + 1\n",
    "    \n",
    "    result = []\n",
    "    for l in range (N):\n",
    "        for k in range(c_out):\n",
    "            i_res = 0\n",
    "            mas = np.zeros(shape=(h * w * c_in, n_rows_res * n_cols_res), dtype=np.float32)\n",
    "            for i in range(0, x.shape[0] - h + 1, stride):\n",
    "                for j in range(0, x.shape[1] - w + 1, stride):\n",
    "                    arr = x[i:i+h, j:j+w, :, :]\n",
    "                    mas[:, i_res] = arr.reshape((-1, ), order='F')\n",
    "                    i_res += 1\n",
    "            #     print(mas.astype(np.int32))\n",
    "            flatten_core = kernel[:, :, :, k].reshape((1, h * w * c_in), order='F')\n",
    "            res = (flatten_core @ mas).reshape((n_rows_res, n_cols_res), order='C')\n",
    "            result.append(res)\n",
    "\n",
    "        result = np.stack(result, axis=2)\n",
    "        return result\n"
   ]
  },
  {
   "cell_type": "code",
   "execution_count": 358,
   "metadata": {},
   "outputs": [
    {
     "data": {
      "text/plain": [
       "(5, 5, 3, 1)"
      ]
     },
     "execution_count": 358,
     "metadata": {},
     "output_type": "execute_result"
    }
   ],
   "source": [
    "a = np.array([[\n",
    "    [0, 0, 2, 1, 0], \n",
    "    [2, 1, 1, 2, 2],\n",
    "    [2, 2, 0, 2, 1],\n",
    "    [1, 0, 2, 0, 0],\n",
    "    [2, 1, 0, 1, 2]\n",
    "],\n",
    "[\n",
    "    [1, 1, 0, 2, 0],\n",
    "    [2, 2, 1, 1, 2],\n",
    "    [1, 2, 0, 0, 1],\n",
    "    [2, 2, 2, 0, 2],\n",
    "    [1, 2, 0, 1, 2] \n",
    "],\n",
    "[\n",
    "    [1, 2, 0, 1, 1],\n",
    "    [1, 1, 1, 0, 1],\n",
    "    [1, 2, 2, 1, 2],\n",
    "    [2, 0, 0, 1, 0],\n",
    "    [2, 0, 2, 0, 2],\n",
    "]])\n",
    "\n",
    "a = a.transpose(2, 1, 0)[..., np.newaxis]\n",
    "a.shape\n"
   ]
  },
  {
   "cell_type": "code",
   "execution_count": 371,
   "metadata": {},
   "outputs": [
    {
     "data": {
      "text/plain": [
       "(3, 3, 3, 1)"
      ]
     },
     "execution_count": 371,
     "metadata": {},
     "output_type": "execute_result"
    }
   ],
   "source": [
    "b = np.array([[\n",
    "    [1, 1, 0],\n",
    "    [0, 1, 1],\n",
    "    [0, 0, 0]\n",
    "],\n",
    "[\n",
    "    [1, 0, 0],\n",
    "    [1, -1, -1],\n",
    "    [1, -1, -1] \n",
    "],\n",
    "[\n",
    "    [0, 1, 1],\n",
    "    [-1, 0, -1],\n",
    "    [1, -1, -1]\n",
    "]])\n",
    "b = b.transpose(2, 1, 0)[..., np.newaxis]\n",
    "b.shape\n",
    "    "
   ]
  },
  {
   "cell_type": "code",
   "execution_count": 377,
   "metadata": {},
   "outputs": [
    {
     "ename": "ValueError",
     "evalue": "all the input arrays must have same number of dimensions",
     "output_type": "error",
     "traceback": [
      "\u001b[1;31m---------------------------------------------------------------------------\u001b[0m",
      "\u001b[1;31mValueError\u001b[0m                                Traceback (most recent call last)",
      "\u001b[1;32m<ipython-input-377-45c079d40283>\u001b[0m in \u001b[0;36m<module>\u001b[1;34m()\u001b[0m\n\u001b[0;32m     32\u001b[0m ]\n\u001b[0;32m     33\u001b[0m ]\n\u001b[1;32m---> 34\u001b[1;33m ), axis=3)\n\u001b[0m",
      "\u001b[1;32mC:\\Soft\\lib\\site-packages\\numpy\\lib\\function_base.py\u001b[0m in \u001b[0;36mappend\u001b[1;34m(arr, values, axis)\u001b[0m\n\u001b[0;32m   5164\u001b[0m         \u001b[0mvalues\u001b[0m \u001b[1;33m=\u001b[0m \u001b[0mravel\u001b[0m\u001b[1;33m(\u001b[0m\u001b[0mvalues\u001b[0m\u001b[1;33m)\u001b[0m\u001b[1;33m\u001b[0m\u001b[0m\n\u001b[0;32m   5165\u001b[0m         \u001b[0maxis\u001b[0m \u001b[1;33m=\u001b[0m \u001b[0marr\u001b[0m\u001b[1;33m.\u001b[0m\u001b[0mndim\u001b[0m\u001b[1;33m-\u001b[0m\u001b[1;36m1\u001b[0m\u001b[1;33m\u001b[0m\u001b[0m\n\u001b[1;32m-> 5166\u001b[1;33m     \u001b[1;32mreturn\u001b[0m \u001b[0mconcatenate\u001b[0m\u001b[1;33m(\u001b[0m\u001b[1;33m(\u001b[0m\u001b[0marr\u001b[0m\u001b[1;33m,\u001b[0m \u001b[0mvalues\u001b[0m\u001b[1;33m)\u001b[0m\u001b[1;33m,\u001b[0m \u001b[0maxis\u001b[0m\u001b[1;33m=\u001b[0m\u001b[0maxis\u001b[0m\u001b[1;33m)\u001b[0m\u001b[1;33m\u001b[0m\u001b[0m\n\u001b[0m",
      "\u001b[1;31mValueError\u001b[0m: all the input arrays must have same number of dimensions"
     ]
    }
   ],
   
  {
   "cell_type": "code",
   "execution_count": 363,
   "metadata": {},
   "outputs": [
    {
     "data": {
      "text/plain": [
       "array([[[-2.],\n",
       "        [ 6.]],\n",
       "\n",
       "       [[ 3.],\n",
       "        [ 2.]]])"
      ]
     },
     "execution_count": 363,
     "metadata": {},
     "output_type": "execute_result"
    }
   ],
   "source": [
    "res = conv1(a, b, 2, 'valid')\n",
    "res"
   ]
  },
  {
   "cell_type": "code",
   "execution_count": 155,
   "metadata": {},
   "outputs": [
    {
     "data": {
      "text/plain": [
       "((7, 7, 3), (3, 3, 3, 1), (5, 5, 1))"
      ]
     },
     "execution_count": 155,
     "metadata": {},
     "output_type": "execute_result"
    }
   ],
   "source": [
    "a_.shape, b.shape, res.shape"
   ]
  },
  {
   "cell_type": "code",
   "execution_count": 9,
   "metadata": {},
   "outputs": [],
   "source": [
    "b_t = b.transpose(0, 1, 3, 2)\n",
    "b_t = b_t[::-1, ::-1]"
   ]
  },
  {
   "cell_type": "code",
   "execution_count": 10,
   "metadata": {},
   "outputs": [
    {
     "data": {
      "text/plain": [
       "array([[[1., 5., 0.]]])"
      ]
     },
     "execution_count": 10,
     "metadata": {},
     "output_type": "execute_result"
    }
   ],
   "source": [
    "conv1(res, b_t, 2, 'valid')"
   ]
  },
  {
   "cell_type": "code",
   "execution_count": null,
   "metadata": {},
   "outputs": [],
   "source": []
  }
 ],
 "metadata": {
  "kernelspec": {
   "display_name": "Python 3",
   "language": "python",
   "name": "python3"
  },
  "language_info": {
   "codemirror_mode": {
    "name": "ipython",
    "version": 3
   },
   "file_extension": ".py",
   "mimetype": "text/x-python",
   "name": "python",
   "nbconvert_exporter": "python",
   "pygments_lexer": "ipython3",
   "version": "3.6.5"
  }
 },
 "nbformat": 4,
 "nbformat_minor": 2
}
